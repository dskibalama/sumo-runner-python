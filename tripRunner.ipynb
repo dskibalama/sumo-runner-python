{
 "cells": [
  {
   "attachments": {},
   "cell_type": "markdown",
   "metadata": {},
   "source": [
    "File for running a trip in SUMO and extracting relevant route features  \n",
    "Author: Dennis Kibalama (kibalama.3@osu.edu)  \n",
    "&copy; The Ohio State University, Center for Automotive Research \n"
   ]
  },
  {
   "cell_type": "code",
   "execution_count": 1,
   "metadata": {},
   "outputs": [],
   "source": [
    "# Import the required files and libraries\n",
    "from termcolor import colored \n",
    "import os\n",
    "import sys\n",
    "import numpy as np\n",
    "import scipy.io as scio\n",
    "import matplotlib.pyplot as plt\n",
    "%matplotlib inline\n",
    "%matplotlib widget\n",
    "import scipy.io\n",
    "from xml.dom import minidom\n",
    "# check SUMO_HOME \n",
    "if 'SUMO_HOME' in os.environ:\n",
    "    tools = os.path.join(os.environ['SUMO_HOME'], 'tools')\n",
    "    sys.path.append(tools)\n",
    "else:\n",
    "    sys.exit(\"please declare environment variable 'SUMO_HOME'\")\n",
    "import traci # import TraCi\n",
    "from env.TrafficSim import SumoEnv # importing the required python classes for interacting with SUMO environment"
   ]
  },
  {
   "cell_type": "code",
   "execution_count": 2,
   "metadata": {},
   "outputs": [
    {
     "name": "stdout",
     "output_type": "stream",
     "text": [
      " Retrying in 1 seconds\n",
      "***Starting server on port 33995 ***\n",
      "Loading net-file from '/home/balmer/repos/sumo-runner-python/env/traffic_model/reduced_columbus_region/reduced_columbus_region.net.xml' ... done (59850ms).\n",
      "Loading done.\n",
      "Simulation version 1.16.0 started with time: 0.00.\n",
      "Vehicle host0 spawned!!\n",
      "\u001b[31mTraffic Light Locations [m]: [1614.42 2769.86 3240.16 3473.32 3632.89 9366.8  9692.36]\u001b[0m\n",
      "Simulation done!\n",
      "Simulation ended at time: 593.00\n",
      "Reason: TraCI requested termination.\n",
      "Performance: \n",
      " Duration: 12.69s\n",
      " TraCI-Duration: 9.50s\n",
      " Real time factor: 46.7334\n",
      " UPS: 46.654583\n",
      "Vehicles: \n",
      " Inserted: 1\n",
      " Running: 0\n",
      " Waiting: 0\n",
      "Statistics (avg of 1):\n",
      " RouteLength: 8829.85\n",
      " Speed: 14.92\n",
      " Duration: 592.00\n",
      " WaitingTime: 35.00\n",
      " TimeLoss: 143.57\n",
      " DepartDelay: 0.00\n",
      "\n"
     ]
    }
   ],
   "source": [
    "sumo_map = \"reduced_columbus_region\" # Name of the SUMO network file\n",
    "\n",
    "# Define variables to save\n",
    "host_distance = []\n",
    "host_current_speed_limit = []\n",
    "host_next_speed_imit = []\n",
    "host_current_speed = []\n",
    "sim_time = []\n",
    "next_tl_distance = []\n",
    "next_tl_state = []\n",
    "route_long = []\n",
    "route_lat = []\n",
    "traffic_list = []\n",
    "next_tl_index = []\n",
    "\n",
    "env = SumoEnv(map_area=sumo_map, use_gui=False)\n",
    "env.setup_sumo()\n",
    "env.start_sumo()\n",
    "\n",
    "# try:\n",
    "step = 0\n",
    "M = 20000\n",
    "\n",
    "    # if not env.Done:\n",
    "while step < M:\n",
    "    \n",
    "    env.simulation_step()\n",
    "    if not env.done:\n",
    "        host_current_speed_limit.append(env.current_speed_limit)\n",
    "        host_current_speed.append(env.get_state()[0])\n",
    "        host_distance.append(env.get_observations()[0])\n",
    "        sim_time.append(step) \n",
    "        next_tl_distance.append(env.get_observations()[1])\n",
    "        edge_list, edge_length_list = env.get_edge_attributes()\n",
    "        \n",
    "        # Only run this function once at the beginning of the simulation\n",
    "        if step == 0:\n",
    "            tl_route = env.get_traffic_light_location()\n",
    "\n",
    "        next_tl_state.extend((\"-\", env.get_observations()[2]))\n",
    "        route_long.append(env.get_observations()[3])\n",
    "        route_lat.append(env.get_observations()[4])\n",
    "        traffic_list.append(env.get_observations()[5])\n",
    "        # next_tl_index.append(env.get_observations()[6])\n",
    "\n",
    "    if env.done:\n",
    "        env.reset()\n",
    "        break\n",
    "\n",
    "    step += 1 # increase the simulation step\n",
    "\n",
    "# convert to array\n",
    "host_distance_np = np.array(host_distance)\n",
    "host_current_speed_np = np.array(host_current_speed)\n",
    "host_current_speed_limit_np = np.array(host_current_speed_limit)\n",
    "sim_time_np = np.array(sim_time)\n",
    "next_tl_distance_np = np.array(next_tl_distance)\n",
    "next_tl_state_np = np.array(next_tl_state)\n",
    "edge_length = np.array(edge_length_list)\n",
    "route_long_np = np.array(route_long)\n",
    "route_lat_np = np.array(route_lat)\n",
    "tls_list = np.array(traffic_list[-1])\n",
    "tl_route_np = np.around(tl_route, decimals=0)\n",
    "\n",
    "# Create dictionary based on desired .mat file names\n",
    "save_dict = {\"dist_m\": np.array(host_distance_np), \"time\": np.array(sim_time_np), \"next_tl_distance\": np.array(next_tl_distance_np), \"v_cyc\": np.array(host_current_speed_limit_np), \"v_veh\":np.array(host_current_speed_np), \"next_tl_state\": np.array(next_tl_state_np), \"edge_length\": edge_length, \"tls_list\": tls_list, \"route_lat\": route_lat_np, \"route_long\": route_long_np, \"tl_route\": tl_route_np}"
   ]
  },
  {
   "attachments": {},
   "cell_type": "markdown",
   "metadata": {},
   "source": [
    "Save the resulting route marker information in a mat file in the `results` directory"
   ]
  },
  {
   "cell_type": "code",
   "execution_count": 3,
   "metadata": {},
   "outputs": [],
   "source": [
    "save_directory = (f\"{os.getcwd()}/results/\")\n",
    "\n",
    "route_name = \"sumo_Route19\" # <---- enter the file name for the .amt file you would like to save \n",
    "variable_name = f\"{route_name}.mat\"\n",
    "scipy.io.savemat(save_directory + variable_name, save_dict)"
   ]
  },
  {
   "cell_type": "code",
   "execution_count": null,
   "metadata": {},
   "outputs": [],
   "source": []
  }
 ],
 "metadata": {
  "kernelspec": {
   "display_name": "data-analytics",
   "language": "python",
   "name": "python3"
  },
  "language_info": {
   "codemirror_mode": {
    "name": "ipython",
    "version": 3
   },
   "file_extension": ".py",
   "mimetype": "text/x-python",
   "name": "python",
   "nbconvert_exporter": "python",
   "pygments_lexer": "ipython3",
   "version": "3.11.2"
  },
  "orig_nbformat": 4,
  "vscode": {
   "interpreter": {
    "hash": "234141367b31f8fbffd498f8ddbb9466de62d08ff27abb2a0c93671debd4b483"
   }
  }
 },
 "nbformat": 4,
 "nbformat_minor": 2
}
