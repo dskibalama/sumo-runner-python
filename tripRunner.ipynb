{
 "cells": [
  {
   "attachments": {},
   "cell_type": "markdown",
   "metadata": {},
   "source": [
    "File for running a trip in SUMO and extracting relevant route features  \n",
    "Author: Dennis Kibalama (kibalama.3@osu.edu)  \n",
    "&copy; The Ohio State University, Center for Automotive Research \n"
   ]
  },
  {
   "cell_type": "code",
   "execution_count": 4,
   "metadata": {},
   "outputs": [],
   "source": [
    "# Import the required files and libraries\n",
    "from termcolor import colored \n",
    "import os\n",
    "import sys\n",
    "import numpy as np\n",
    "import scipy.io as scio\n",
    "import matplotlib.pyplot as plt\n",
    "%matplotlib inline\n",
    "%matplotlib widget\n",
    "import scipy.io\n",
    "from xml.dom import minidom\n",
    "# check SUMO_HOME \n",
    "if 'SUMO_HOME' in os.environ:\n",
    "    tools = os.path.join(os.environ['SUMO_HOME'], 'tools')\n",
    "    sys.path.append(tools)\n",
    "else:\n",
    "    sys.exit(\"please declare environment variable 'SUMO_HOME'\")\n",
    "import traci # import TraCi\n",
    "from env.TrafficSim import SumoEnv # importing the required python classes for interacting with SUMO environment"
   ]
  },
  {
   "cell_type": "code",
   "execution_count": 5,
   "metadata": {},
   "outputs": [
    {
     "ename": "FatalTraCIError",
     "evalue": "connection closed by SUMO",
     "output_type": "error",
     "traceback": [
      "\u001b[0;31m---------------------------------------------------------------------------\u001b[0m",
      "\u001b[0;31mFatalTraCIError\u001b[0m                           Traceback (most recent call last)",
      "Cell \u001b[0;32mIn[5], line 18\u001b[0m\n\u001b[1;32m     16\u001b[0m env \u001b[39m=\u001b[39m SumoEnv(map_area\u001b[39m=\u001b[39msumo_map, use_gui\u001b[39m=\u001b[39m\u001b[39mFalse\u001b[39;00m)\n\u001b[1;32m     17\u001b[0m env\u001b[39m.\u001b[39msetup_sumo()\n\u001b[0;32m---> 18\u001b[0m env\u001b[39m.\u001b[39mstart_sumo()\n\u001b[1;32m     20\u001b[0m \u001b[39m# try:\u001b[39;00m\n\u001b[1;32m     21\u001b[0m step \u001b[39m=\u001b[39m \u001b[39m0\u001b[39m\n",
      "File \u001b[0;32m~/repos/sumo-runner-python/env/TrafficSim.py:148\u001b[0m, in \u001b[0;36mSumoEnv.start_sumo\u001b[0;34m(self)\u001b[0m\n\u001b[1;32m    136\u001b[0m \u001b[39mself\u001b[39m\u001b[39m.\u001b[39msumo_command \u001b[39m=\u001b[39m [\n\u001b[1;32m    137\u001b[0m     \u001b[39mself\u001b[39m\u001b[39m.\u001b[39msumo_binary,\n\u001b[1;32m    138\u001b[0m     \u001b[39m\"\u001b[39m\u001b[39m-c\u001b[39m\u001b[39m\"\u001b[39m,\n\u001b[0;32m   (...)\u001b[0m\n\u001b[1;32m    144\u001b[0m     \u001b[39m\"\u001b[39m\u001b[39m--no-warnings\u001b[39m\u001b[39m\"\u001b[39m,\n\u001b[1;32m    145\u001b[0m ]\n\u001b[1;32m    147\u001b[0m \u001b[39mif\u001b[39;00m traci\u001b[39m.\u001b[39misLoaded():\n\u001b[0;32m--> 148\u001b[0m     traci\u001b[39m.\u001b[39mclose(\u001b[39mFalse\u001b[39;00m) \u001b[39m# close a TraCi connection if TraCI is Loaded\u001b[39;00m\n\u001b[1;32m    150\u001b[0m traci\u001b[39m.\u001b[39mstart(\u001b[39mself\u001b[39m\u001b[39m.\u001b[39msumo_command)\n",
      "File \u001b[0;32m/usr/share/sumo/tools/traci/main.py:245\u001b[0m, in \u001b[0;36mclose\u001b[0;34m(wait)\u001b[0m\n\u001b[1;32m    241\u001b[0m \u001b[39mdef\u001b[39;00m \u001b[39mclose\u001b[39m(wait\u001b[39m=\u001b[39m\u001b[39mTrue\u001b[39;00m):\n\u001b[1;32m    242\u001b[0m     \u001b[39m\"\"\"\u001b[39;00m\n\u001b[1;32m    243\u001b[0m \u001b[39m    Tells TraCI to close the connection.\u001b[39;00m\n\u001b[1;32m    244\u001b[0m \u001b[39m    \"\"\"\u001b[39;00m\n\u001b[0;32m--> 245\u001b[0m     connection\u001b[39m.\u001b[39mcheck()\u001b[39m.\u001b[39mclose(wait)\n",
      "File \u001b[0;32m/usr/share/sumo/tools/traci/connection.py:391\u001b[0m, in \u001b[0;36mConnection.close\u001b[0;34m(self, wait)\u001b[0m\n\u001b[1;32m    389\u001b[0m     \u001b[39mself\u001b[39m\u001b[39m.\u001b[39mremoveStepListener(listenerID)\n\u001b[1;32m    390\u001b[0m \u001b[39mif\u001b[39;00m \u001b[39mself\u001b[39m\u001b[39m.\u001b[39m_socket \u001b[39mis\u001b[39;00m \u001b[39mnot\u001b[39;00m \u001b[39mNone\u001b[39;00m:\n\u001b[0;32m--> 391\u001b[0m     \u001b[39mself\u001b[39m\u001b[39m.\u001b[39m_sendCmd(tc\u001b[39m.\u001b[39mCMD_CLOSE, \u001b[39mNone\u001b[39;00m, \u001b[39mNone\u001b[39;00m)\n\u001b[1;32m    392\u001b[0m     \u001b[39mself\u001b[39m\u001b[39m.\u001b[39m_socket\u001b[39m.\u001b[39mclose()\n\u001b[1;32m    393\u001b[0m     \u001b[39mself\u001b[39m\u001b[39m.\u001b[39m_socket \u001b[39m=\u001b[39m \u001b[39mNone\u001b[39;00m\n",
      "File \u001b[0;32m/usr/share/sumo/tools/traci/connection.py:225\u001b[0m, in \u001b[0;36mConnection._sendCmd\u001b[0;34m(self, cmdID, varID, objID, format, *values)\u001b[0m\n\u001b[1;32m    223\u001b[0m     \u001b[39mself\u001b[39m\u001b[39m.\u001b[39m_string \u001b[39m+\u001b[39m\u001b[39m=\u001b[39m struct\u001b[39m.\u001b[39mpack(\u001b[39m\"\u001b[39m\u001b[39m!i\u001b[39m\u001b[39m\"\u001b[39m, \u001b[39mlen\u001b[39m(objID)) \u001b[39m+\u001b[39m objID\u001b[39m.\u001b[39mencode(\u001b[39m\"\u001b[39m\u001b[39mlatin1\u001b[39m\u001b[39m\"\u001b[39m)\n\u001b[1;32m    224\u001b[0m \u001b[39mself\u001b[39m\u001b[39m.\u001b[39m_string \u001b[39m+\u001b[39m\u001b[39m=\u001b[39m packed\n\u001b[0;32m--> 225\u001b[0m \u001b[39mreturn\u001b[39;00m \u001b[39mself\u001b[39m\u001b[39m.\u001b[39m_sendExact()\n",
      "File \u001b[0;32m/usr/share/sumo/tools/traci/connection.py:135\u001b[0m, in \u001b[0;36mConnection._sendExact\u001b[0;34m(self)\u001b[0m\n\u001b[1;32m    133\u001b[0m     \u001b[39mself\u001b[39m\u001b[39m.\u001b[39m_socket\u001b[39m.\u001b[39mclose()\n\u001b[1;32m    134\u001b[0m     \u001b[39mself\u001b[39m\u001b[39m.\u001b[39m_socket \u001b[39m=\u001b[39m \u001b[39mNone\u001b[39;00m\n\u001b[0;32m--> 135\u001b[0m     \u001b[39mraise\u001b[39;00m FatalTraCIError(\u001b[39m\"\u001b[39m\u001b[39mconnection closed by SUMO\u001b[39m\u001b[39m\"\u001b[39m)\n\u001b[1;32m    136\u001b[0m \u001b[39mfor\u001b[39;00m command \u001b[39min\u001b[39;00m \u001b[39mself\u001b[39m\u001b[39m.\u001b[39m_queue:\n\u001b[1;32m    137\u001b[0m     prefix \u001b[39m=\u001b[39m result\u001b[39m.\u001b[39mread(\u001b[39m\"\u001b[39m\u001b[39m!BBB\u001b[39m\u001b[39m\"\u001b[39m)\n",
      "\u001b[0;31mFatalTraCIError\u001b[0m: connection closed by SUMO"
     ]
    }
   ],
   "source": [
    "sumo_map = \"reduced_columbus_region\" # Name of the SUMO network file\n",
    "\n",
    "# Define variables to save\n",
    "host_distance = []\n",
    "host_current_speed_limit = []\n",
    "host_next_speed_imit = []\n",
    "host_current_speed = []\n",
    "sim_time = []\n",
    "next_tl_distance = []\n",
    "next_tl_state = []\n",
    "route_long = []\n",
    "route_lat = []\n",
    "traffic_list = []\n",
    "next_tl_index = []\n",
    "\n",
    "env = SumoEnv(map_area=sumo_map, use_gui=False)\n",
    "env.setup_sumo()\n",
    "env.start_sumo()\n",
    "\n",
    "# try:\n",
    "step = 0\n",
    "M = 20000\n",
    "\n",
    "    # if not env.Done:\n",
    "while step < M:\n",
    "    \n",
    "    env.simulation_step()\n",
    "    if not env.done:\n",
    "        host_current_speed_limit.append(env.current_speed_limit)\n",
    "        host_current_speed.append(env.get_state()[0])\n",
    "        host_distance.append(env.get_observations()[0])\n",
    "        sim_time.append(step) \n",
    "        next_tl_distance.append(env.get_observations()[1])\n",
    "        edge_list, edge_length_list = env.get_edge_attributes()\n",
    "        \n",
    "        # Only run this function once at the beginning of the simulation\n",
    "        if step == 0:\n",
    "            tl_route = env.get_traffic_light_location()\n",
    "\n",
    "        next_tl_state.extend((\"-\", env.get_observations()[2]))\n",
    "        route_long.append(env.get_observations()[3])\n",
    "        route_lat.append(env.get_observations()[4])\n",
    "        traffic_list.append(env.get_observations()[5])\n",
    "        # next_tl_index.append(env.get_observations()[6])\n",
    "\n",
    "    if env.done:\n",
    "        env.reset()\n",
    "        break\n",
    "\n",
    "    step += 1 # increase the simulation step\n",
    "\n",
    "# convert to array\n",
    "host_distance_np = np.array(host_distance)\n",
    "host_current_speed_np = np.array(host_current_speed)\n",
    "host_current_speed_limit_np = np.array(host_current_speed_limit)\n",
    "sim_time_np = np.array(sim_time)\n",
    "next_tl_distance_np = np.array(next_tl_distance)\n",
    "next_tl_state_np = np.array(next_tl_state)\n",
    "edge_length = np.array(edge_length_list)\n",
    "route_long_np = np.array(route_long)\n",
    "route_lat_np = np.array(route_lat)\n",
    "tls_list = np.array(traffic_list[-1])\n",
    "tl_route_np = np.around(tl_route, decimals=0)\n",
    "\n",
    "# Create dictionary based on desired .mat file names\n",
    "save_dict = {\"dist_m\": np.array(host_distance_np), \"time\": np.array(sim_time_np), \"next_tl_distance\": np.array(next_tl_distance_np), \"v_cyc\": np.array(host_current_speed_limit_np), \"v_veh\":np.array(host_current_speed_np), \"next_tl_state\": np.array(next_tl_state_np), \"edge_length\": edge_length, \"tls_list\": tls_list, \"route_lat\": route_lat_np, \"route_long\": route_long_np, \"tl_route\": tl_route_np}"
   ]
  },
  {
   "attachments": {},
   "cell_type": "markdown",
   "metadata": {},
   "source": [
    "Save the resulting route marker information in a mat file in the `results` directory"
   ]
  },
  {
   "cell_type": "code",
   "execution_count": 3,
   "metadata": {},
   "outputs": [],
   "source": [
    "save_directory = (f\"{os.getcwd()}/results/\")\n",
    "\n",
    "route_name = \"sumo_Route19\" # <---- enter the file name for the .amt file you would like to save \n",
    "variable_name = f\"{route_name}.mat\"\n",
    "scipy.io.savemat(save_directory + variable_name, save_dict)"
   ]
  },
  {
   "cell_type": "code",
   "execution_count": null,
   "metadata": {},
   "outputs": [],
   "source": []
  }
 ],
 "metadata": {
  "kernelspec": {
   "display_name": "data-analytics",
   "language": "python",
   "name": "python3"
  },
  "language_info": {
   "codemirror_mode": {
    "name": "ipython",
    "version": 3
   },
   "file_extension": ".py",
   "mimetype": "text/x-python",
   "name": "python",
   "nbconvert_exporter": "python",
   "pygments_lexer": "ipython3",
   "version": "3.11.2"
  },
  "orig_nbformat": 4,
  "vscode": {
   "interpreter": {
    "hash": "234141367b31f8fbffd498f8ddbb9466de62d08ff27abb2a0c93671debd4b483"
   }
  }
 },
 "nbformat": 4,
 "nbformat_minor": 2
}
