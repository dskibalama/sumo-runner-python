{
 "cells": [
  {
   "attachments": {},
   "cell_type": "markdown",
   "metadata": {},
   "source": [
    "Maintainer: Dennis Kibalama kibalama.3@osu.edu\n",
    "\n",
    "This script is run with a configured anaconda/miniconda environment."
   ]
  },
  {
   "cell_type": "code",
   "execution_count": 12,
   "metadata": {},
   "outputs": [],
   "source": [
    "# Import the required files and libraries\n",
    "\n",
    "from __future__ import absolute_import\n",
    "from __future__ import print_function\n",
    "from termcolor import colored\n",
    "\n",
    "import os, sys\n",
    "import numpy as np\n",
    "import scipy.io as scio\n",
    "\n",
    "# check SUMO_HOME \n",
    "if 'SUMO_HOME' in os.environ:\n",
    "    tools = os.path.join(os.environ['SUMO_HOME'], 'tools')\n",
    "    sys.path.append(tools)\n",
    "else:\n",
    "    sys.exit(\"please declare environment variable 'SUMO_HOME'\")\n",
    "\n",
    "import traci\n",
    "from sumolib import net, checkBinary"
   ]
  },
  {
   "cell_type": "code",
   "execution_count": 13,
   "metadata": {},
   "outputs": [],
   "source": [
    "\n",
    "def geo_coordinates_extractor(file_name):\n",
    "    ''' \n",
    "    A function that is extracts the GPS coordinates from a .mat file.\n",
    "\n",
    "    Input arguments\n",
    "        :<file_name>, a string of the source route file (excluding the .mat extension)\n",
    "    \n",
    "    Output arguments \n",
    "        :route_lat, a list of latitude geodetic coordinates\n",
    "        :route_long, a list of longitude geodetic coordinates\n",
    "    '''\n",
    "    file_name = 'Route_19'\n",
    "\n",
    "    parent_dir = os.getcwd()\n",
    "    os.chdir(\"logs/gps/\")\n",
    "    gps_logs_dir = os.getcwd()\n",
    "    route_lat = scio.loadmat(f\"{file_name}.mat\")['route_lat']\n",
    "    route_long = scio.loadmat(f\"{file_name}.mat\")['route_long']\n",
    "\n",
    "    os.chdir(parent_dir)\n",
    "\n",
    "    return [\n",
    "        route_long,\n",
    "        route_lat\n",
    "    ]\n",
    "\n",
    "def create_net_object(sumo_map):\n",
    "\n",
    "    '''\n",
    "    Create a net object based on the name of the network\n",
    "    Recall that the network is placed inside a folder with a similar name\n",
    "    under the \"env/traffic_model/\" folder\n",
    "    '''\n",
    "\n",
    "    return net.readNet(f'env/traffic_model/{sumo_map}/{sumo_map}.net.xml')"
   ]
  },
  {
   "cell_type": "code",
   "execution_count": 29,
   "metadata": {},
   "outputs": [],
   "source": [
    "\n",
    "# TODO\n",
    "route_name = \"Route_19\" # <----- Enter the file containing GPS coordinates\n",
    "route_long, route_lat = geo_coordinates_extractor(file_name=route_name) \n",
    "\n",
    "# This command could take a while to run depending on the size of the SUMO network you load.\n",
    "network_map = \"reduced_columbus_region\" # <----- Assign the approprite name of the SUMO network file\n",
    "my_net = create_net_object(sumo_map=network_map) "
   ]
  },
  {
   "cell_type": "code",
   "execution_count": 30,
   "metadata": {},
   "outputs": [],
   "source": [
    "def extract_edge_id(closest_edge):\n",
    "\n",
    "    ''' \n",
    "    Convert the object contained in closest edge to a sting and extract the first item using the split() function\n",
    "    The object uses xml syntax and is of the format\n",
    "\n",
    "    <edge id=\"...\" from=\"...\" to=\"...\"/>\n",
    "\n",
    "    '''\n",
    "    return str(closest_edge).split('\"')[1]\n",
    "\n",
    "\n",
    "def return_closest_edge(coordinates, my_net):\n",
    "\n",
    "    ''' \n",
    "    This function takes the coordinates of the GPS points, and the network object and finds the closest edge to each point. \n",
    "\n",
    "    NOTE:This is an experimental implementation and still under development\n",
    "\n",
    "    ----------\n",
    "    known bugs\n",
    "    ----------\n",
    "    * the extract_edge_id() for some coordinates can return an empty list which implies that no matching edge will be found for the corresponding GPS coordinates.\n",
    "    \n",
    "    '''\n",
    "\n",
    "    RADIUS = 0.1\n",
    "    edge_list = []\n",
    "    cnt = 0\n",
    "\n",
    "    # For first index assign value to edge_list\n",
    "    x, y = my_net.convertLonLat2XY(coordinates[0,0], coordinates[1,0])\n",
    "    edges = my_net.getNeighboringEdges(x,y,RADIUS)\n",
    "\n",
    "    # pick the closest edge\n",
    "    if len(edges) > 0:\n",
    "        distances_and_edges = sorted([(dist, edge) for edge, dist in edges])\n",
    "        dist, closest_edge = distances_and_edges[0]\n",
    "\n",
    "    edge_list.append(extract_edge_id(closest_edge))\n",
    "\n",
    "    for item in range(1,coordinates.shape[1]):\n",
    "        x, y = my_net.convertLonLat2XY(coordinates[0,item], coordinates[1,item])\n",
    "        edges = my_net.getNeighboringEdges(x,y,RADIUS)\n",
    "\n",
    "        # pick the closest edge\n",
    "        if len(edges) > 0:\n",
    "            distances_and_edges = sorted([(dist, edge) for edge, dist in edges])\n",
    "            dist, closest_edge = distances_and_edges[0]\n",
    "\n",
    "        # if item == 1: # Assign the id of the first closest edge to the edge_list \n",
    "        #     edge_list.append(extract_edge_id(closest_edge))\n",
    "        #     # prev_edge_id = extract_edge_id(closest_edge)\n",
    "\n",
    "        # else:\n",
    "        #TODO check the returned closest edge against the previous edge and only append the list when the closest edge changes\n",
    "        if edge_list[-1] != extract_edge_id(closest_edge):\n",
    "            # Increment counter, change prev_edge_id for next iteration and append edge_list\n",
    "            cnt += 1\n",
    "            edge_list.append(extract_edge_id(closest_edge))\n",
    "            # prev_edge_id = extract_edge_id(closest_edge)\n",
    "\n",
    "    return edge_list"
   ]
  },
  {
   "cell_type": "code",
   "execution_count": 31,
   "metadata": {},
   "outputs": [],
   "source": [
    "geo_coordinates = np.row_stack((route_long, route_lat))\n",
    "\n",
    "# Extract the route edges into a list using the custom function and convert into a string\n",
    "route_edges_list = return_closest_edge(geo_coordinates, my_net)\n",
    "\n",
    "route_str = ' '.join(route_edges_list)"
   ]
  },
  {
   "attachments": {},
   "cell_type": "markdown",
   "metadata": {},
   "source": [
    "Custom function to generate a `traffic_sim_gps.rou.xml` file in the folder `env/traffic_model/<network_map>/`"
   ]
  },
  {
   "cell_type": "code",
   "execution_count": 46,
   "metadata": {},
   "outputs": [],
   "source": [
    "def create_route_file(sumo_map, route_string):\n",
    "      \n",
    "    \"\"\"\n",
    "    This function creates a config file for the SUMO traffic simulator\n",
    "    \n",
    "    :param route_details: This is the dictionary that contains the route details for all the trips\n",
    "    :param trip_number: The trip number of the route you want to simulate\n",
    "    \"\"\"\n",
    "    with open(\n",
    "            os.getcwd() + \"/env/traffic_model/\" + sumo_map + \"/traffic_sim_gps.rou.xml\",\n",
    "            \"w\",\n",
    "        ) as routes:\n",
    "            print(\n",
    "                \"\"\"<routes xmlns:xsi=\"http://www.w3.org/2001/XMLSchema-instance\" xsi:noNamespaceSchemaLocation=\"http://sumo.dlr.de/xsd/routes_file.xsd\">\n",
    "            <vType id=\"passenger\" accel=\"2\" decel=\"2\" sigma=\"0\" length=\"5\" minGap=\"2.5\" maxSpeed=\"45\"\n",
    "            guiShape=\"passenger\" speedFactor=\"0.9\" carFollowModel=\"IDM\" speedDev=\"0.1\" vClass=\"passenger\"/>\n",
    "            <vehicle id=\"host0\" type=\"passenger\" depart=\"0.00\">\"\"\",\n",
    "                file=routes,\n",
    "                )\n",
    "            print(\" \", file=routes)\n",
    "            print(\n",
    "            \"\\t<!-- \" + route_name + \" -->\", file=routes)\n",
    "            print(\n",
    "            '\\t<route edges=\"' + \n",
    "            route_string + '\"/>', file=routes)\n",
    "            print(\" \", file=routes)\n",
    "            print(\"\\t</vehicle>\", file=routes)\n",
    "            print(\"</routes>\", file=routes)"
   ]
  },
  {
   "cell_type": "code",
   "execution_count": null,
   "metadata": {},
   "outputs": [],
   "source": [
    "#TODO\n",
    "# Write the extracted route edges to a .rou.xml file and run a simulation with SUMO to verify the route\n",
    "create_route_file(sumo_map=network_map, route_string=route_str)"
   ]
  },
  {
   "cell_type": "code",
   "execution_count": null,
   "metadata": {},
   "outputs": [],
   "source": []
  }
 ],
 "metadata": {
  "kernelspec": {
   "display_name": "data-analytics",
   "language": "python",
   "name": "python3"
  },
  "language_info": {
   "codemirror_mode": {
    "name": "ipython",
    "version": 3
   },
   "file_extension": ".py",
   "mimetype": "text/x-python",
   "name": "python",
   "nbconvert_exporter": "python",
   "pygments_lexer": "ipython3",
   "version": "3.11.2"
  },
  "orig_nbformat": 4,
  "vscode": {
   "interpreter": {
    "hash": "234141367b31f8fbffd498f8ddbb9466de62d08ff27abb2a0c93671debd4b483"
   }
  }
 },
 "nbformat": 4,
 "nbformat_minor": 2
}
