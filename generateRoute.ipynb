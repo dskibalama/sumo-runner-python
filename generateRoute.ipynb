{
 "cells": [
  {
   "attachments": {},
   "cell_type": "markdown",
   "metadata": {},
   "source": [
    "Maintainer: Dennis Kibalama kibalama.3@osu.edu\n",
    "\n",
    "This script is run with a configured anaconda/miniconda environment. To setup the same environment please run the commands below\n",
    "\n",
    "`create --name sumo-env`\n",
    "\n",
    "`conda activate sumo-env`\n",
    "\n",
    "`conda install scipy numpy matplotlib termcolor jupyter ipympl`"
   ]
  },
  {
   "cell_type": "code",
   "execution_count": 2,
   "metadata": {},
   "outputs": [],
   "source": [
    "# Import the required files and libraries\n",
    "\n",
    "from __future__ import absolute_import\n",
    "from __future__ import print_function\n",
    "from termcolor import colored\n",
    "\n",
    "import os, sys\n",
    "import numpy as np\n",
    "import scipy.io as scio\n",
    "\n",
    "# check SUMO_HOME \n",
    "if 'SUMO_HOME' in os.environ:\n",
    "    tools = os.path.join(os.environ['SUMO_HOME'], 'tools')\n",
    "    sys.path.append(tools)\n",
    "else:\n",
    "    sys.exit(\"please declare environment variable 'SUMO_HOME'\")\n",
    "\n",
    "import traci\n",
    "from sumolib import net, checkBinary"
   ]
  },
  {
   "cell_type": "code",
   "execution_count": 3,
   "metadata": {},
   "outputs": [],
   "source": [
    "\n",
    "def geo_coordinates_extractor(file_name):\n",
    "    ''' \n",
    "    A function that is extracts the GPS coordinates from a .mat file.\n",
    "\n",
    "    Input arguments\n",
    "        :<file_name>, a string of the source route file (excluding the .mat extension)\n",
    "    \n",
    "    Output arguments \n",
    "        :route_lat, a list of latitude geodetic coordinates\n",
    "        :route_long, a list of longitude geodetic coordinates\n",
    "    '''\n",
    "    file_name = 'Route_19'\n",
    "\n",
    "    parent_dir = os.getcwd()\n",
    "    os.chdir(\"logs/gps/\")\n",
    "    gps_logs_dir = os.getcwd()\n",
    "    route_lat = scio.loadmat(f\"{file_name}.mat\")['route_lat']\n",
    "    route_long = scio.loadmat(f\"{file_name}.mat\")['route_long']\n",
    "\n",
    "    os.chdir(parent_dir)\n",
    "\n",
    "    return [\n",
    "        route_long,\n",
    "        route_lat\n",
    "    ]\n",
    "\n",
    "def create_net_object(sumo_map):\n",
    "\n",
    "    '''\n",
    "    Create a net object based on the name of the network\n",
    "    Recall that the network is placed inside a folder with a similar name\n",
    "    under the \"env/traffic_model/\" folder\n",
    "    '''\n",
    "\n",
    "    return net.readNet(f'env/traffic_model/{sumo_map}/{sumo_map}.net.xml')"
   ]
  },
  {
   "cell_type": "code",
   "execution_count": 4,
   "metadata": {},
   "outputs": [],
   "source": [
    "\n",
    "# TODO\n",
    "route_long, route_lat = geo_coordinates_extractor(file_name=\"Route_19\") # <----- Enter the file containing GPS coordinates\n",
    "\n",
    "# This command could take a while to run depending on the size of the SUMO network you load.\n",
    "my_net = create_net_object(sumo_map=\"reduced_columbus_region\") # <----- Assign the approprite name of the SUMO network file"
   ]
  },
  {
   "cell_type": "code",
   "execution_count": 4,
   "metadata": {},
   "outputs": [],
   "source": [
    "def extract_edge_id(closest_edge):\n",
    "\n",
    "    ''' \n",
    "    Convert the object contained in closest edge to a sting and extract the first item using the split() function\n",
    "    The object uses xml syntax and is of the format\n",
    "\n",
    "    <edge id=\"...\" from=\"...\" to=\"...\"/>\n",
    "\n",
    "    '''\n",
    "    return str(closest_edge).split('\"')[1]\n",
    "\n",
    "\n",
    "def return_closest_edge(coordinates, my_net):\n",
    "\n",
    "    ''' \n",
    "    This function takes the coordinates of the GPS points, and the network object and finds the closest edge to each point. \n",
    "\n",
    "    NOTE:This is an experimental implementation and still under development\n",
    "\n",
    "    ----------\n",
    "    known bugs\n",
    "    ----------\n",
    "    * the extract_edge_id() for some coordinates can return an empty list which implies that no matching edge will be found for the corresponding GPS coordinates.\n",
    "    \n",
    "    '''\n",
    "\n",
    "    RADIUS = 0.1\n",
    "    edge_list = []\n",
    "    cnt = 0\n",
    "\n",
    "    # For first index assign value to edge_list\n",
    "    x, y = my_net.convertLonLat2XY(coordinates[0,0], coordinates[1,0])\n",
    "    edges = my_net.getNeighboringEdges(x,y,RADIUS)\n",
    "\n",
    "    # pick the closest edge\n",
    "    if len(edges) > 0:\n",
    "        distances_and_edges = sorted([(dist, edge) for edge, dist in edges])\n",
    "        dist, closest_edge = distances_and_edges[0]\n",
    "\n",
    "    edge_list.append(extract_edge_id(closest_edge))\n",
    "\n",
    "    for item in range(1,coordinates.shape[1]):\n",
    "        x, y = my_net.convertLonLat2XY(coordinates[0,item], coordinates[1,item])\n",
    "        edges = my_net.getNeighboringEdges(x,y,RADIUS)\n",
    "\n",
    "        # pick the closest edge\n",
    "        if len(edges) > 0:\n",
    "            distances_and_edges = sorted([(dist, edge) for edge, dist in edges])\n",
    "            dist, closest_edge = distances_and_edges[0]\n",
    "\n",
    "        # if item == 1: # Assign the id of the first closest edge to the edge_list \n",
    "        #     edge_list.append(extract_edge_id(closest_edge))\n",
    "        #     # prev_edge_id = extract_edge_id(closest_edge)\n",
    "\n",
    "        # else:\n",
    "        #TODO check the returned closest edge against the previous edge and only append the list when the closest edge changes\n",
    "        if edge_list[-1] != extract_edge_id(closest_edge):\n",
    "            # Increment counter, change prev_edge_id for next iteration and append edge_list\n",
    "            cnt += 1\n",
    "            edge_list.append(extract_edge_id(closest_edge))\n",
    "            # prev_edge_id = extract_edge_id(closest_edge)\n",
    "\n",
    "    return edge_list"
   ]
  },
  {
   "cell_type": "code",
   "execution_count": 5,
   "metadata": {},
   "outputs": [],
   "source": [
    "geo_coordinates = np.row_stack((route_long, route_lat))\n",
    "route_edges = return_closest_edge(geo_coordinates, my_net)"
   ]
  },
  {
   "cell_type": "code",
   "execution_count": null,
   "metadata": {},
   "outputs": [],
   "source": [
    "#TODO\n",
    "# Write the extracted route edges to a .rou.xml file and run a simulation with SUMO to verify the route"
   ]
  },
  {
   "cell_type": "markdown",
   "metadata": {},
   "source": []
  },
  {
   "cell_type": "code",
   "execution_count": 19,
   "metadata": {},
   "outputs": [
    {
     "data": {
      "text/plain": [
       "'-21352789#22'"
      ]
     },
     "execution_count": 19,
     "metadata": {},
     "output_type": "execute_result"
    }
   ],
   "source": [
    "input_string = str(route_edges[0])\n",
    "result = input_string.split('\"')[1]\n",
    "result"
   ]
  }
 ],
 "metadata": {
  "kernelspec": {
   "display_name": "data-analytics",
   "language": "python",
   "name": "python3"
  },
  "language_info": {
   "codemirror_mode": {
    "name": "ipython",
    "version": 3
   },
   "file_extension": ".py",
   "mimetype": "text/x-python",
   "name": "python",
   "nbconvert_exporter": "python",
   "pygments_lexer": "ipython3",
   "version": "3.11.2"
  },
  "orig_nbformat": 4,
  "vscode": {
   "interpreter": {
    "hash": "234141367b31f8fbffd498f8ddbb9466de62d08ff27abb2a0c93671debd4b483"
   }
  }
 },
 "nbformat": 4,
 "nbformat_minor": 2
}
